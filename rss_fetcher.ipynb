{
 "cells": [
  {
   "cell_type": "code",
   "execution_count": 1,
   "id": "266b3669",
   "metadata": {},
   "outputs": [
    {
     "name": "stdout",
     "output_type": "stream",
     "text": [
      "\n",
      "======= Entry 1 Are Competitive Public Service Exams Counter‐Productive? A Survey Experiment From Two East Asian States =======\n",
      "ABSTRACT\n",
      "Public service exams are extremely competitive in East Asia. Does a high entry bar impede people with high public service motivation (PSM) from taking the exam? If so, what kinds of people are interested in taking a difficult public service exam? We employ a randomized control trial (RCT) to manipulate perceptions of exam competitiveness, using 1804 survey responses from online advertisements targeting individuals interested in public service careers in South Korea and Taiwan. OLS regression analyses (adjusted R2 = 0.116, Model 7) with moderation tests show that when exam competitiveness is high (2.5% passing rate), public service positions are attractive to those who have high PSM, high academic competence, and low material desires. When exam competitiveness is lower (5% passing rate), public sector jobs remain attractive to individuals with high PSM, but public organizations become less likely to attract academically competent individuals and may not effectively screen out those primarily incentivized by material rewards. Our findings suggest that a high level of competitiveness in public service exams may have distinct merits, though given the modest explanatory power, we explicitly caution readers against overstating the strength of these findings.\n",
      "\n",
      "\n",
      "--- simplified text preview ---\n",
      "ABSTRACT\n",
      "Public service exams are extremely competitive in East Asia. Does a high entry bar impede people with high public service motivation (PSM) from taking the exam? If so, what kinds of people are interested in taking a difficult public service exam? We employ a randomized control trial (RCT) to manipulate perceptions of exam competitiveness, using 1804 survey responses from online advertisements targeting individuals interested in public service careers in South Korea and Taiwan. OLS regre\n"
     ]
    }
   ],
   "source": [
    "from bs4 import BeautifulSoup\n",
    "import feedparser\n",
    "\n",
    "feed = feedparser.parse(\"https://onlinelibrary.wiley.com/feed/14679299/most-recent\")\n",
    "\n",
    "for i, entry in enumerate(feed.entries):\n",
    "    if not hasattr(entry, 'content'):\n",
    "        continue\n",
    "    html = entry.content[0]['value']\n",
    "    print(\"\\n======= Entry\", i+1, entry.title, \"=======\")\n",
    "    soup = BeautifulSoup(html, 'html.parser')\n",
    "    print(soup.prettify()[:1500])\n",
    "    print(\"\\n--- simplified text preview ---\")\n",
    "    print(soup.get_text()[:500])\n",
    "    break\n"
   ]
  },
  {
   "cell_type": "code",
   "execution_count": null,
   "id": "da30ceff",
   "metadata": {},
   "outputs": [],
   "source": [
    "https://docs.rsshub.app/\n",
    "https://www.biorxiv.org/alertsrs\n",
    "\n",
    "# To Do: Add more general feed for biorxiv and rsshub"
   ]
  },
  {
   "cell_type": "code",
   "execution_count": 1,
   "id": "4fedbda1",
   "metadata": {},
   "outputs": [
    {
     "name": "stdout",
     "output_type": "stream",
     "text": [
      "=== 2025-07-24 19:02:20.767161 ===\n"
     ]
    }
   ],
   "source": [
    "import feedparser\n",
    "import schedule\n",
    "import time\n",
    "from datetime import datetime\n",
    "\n",
    "def fetch_rss():\n",
    "    url = \"https://rsshub.app/zhihu/daily\"\n",
    "    feed = feedparser.parse(url)\n",
    "    print(f\"=== {datetime.now()} ===\")\n",
    "    for entry in feed.entries:\n",
    "        print(entry.title)\n",
    "        print(entry.link)\n",
    "\n",
    "# schedule.every().day.at(\"09:00\").do(fetch_rss)\n",
    "\n",
    "# while True:\n",
    "#     schedule.run_pending()\n",
    "#     time.sleep(1)\n",
    "\n",
    "\n",
    "fetch_rss()"
   ]
  },
  {
   "cell_type": "code",
   "execution_count": 11,
   "id": "fa397e2b",
   "metadata": {},
   "outputs": [],
   "source": [
    "import feedparser\n",
    "\n",
    "# url = \"http://connect.biorxiv.org/biorxiv_xml.php?subject=genomics+bioinformatics\"\n",
    "url = \"https://rsshub.app/bilibili/weekly\"\n",
    "\n",
    "feed = feedparser.parse(url)\n",
    "\n",
    "\n",
    "# for entry in feed.entries[:1]:\n",
    "#     print(\"Available fields:\", entry.keys())\n",
    "\n",
    "for entry in feed.entries:\n",
    "    for key in entry.keys():\n",
    "        print(key)\n",
    "        print(entry[key])\n",
    "        print('-' * 40)\n"
   ]
  },
  {
   "cell_type": "code",
   "execution_count": 7,
   "id": "06946298",
   "metadata": {},
   "outputs": [
    {
     "data": {
      "text/plain": [
       "'https://www.biorxiv.org/content/10.1101/2025.07.21.665899v1?rss=1'"
      ]
     },
     "execution_count": 7,
     "metadata": {},
     "output_type": "execute_result"
    }
   ],
   "source": [
    "feed.entries[0]['id']"
   ]
  },
  {
   "cell_type": "code",
   "execution_count": 12,
   "id": "b8ed262b",
   "metadata": {},
   "outputs": [],
   "source": [
    "import feedparser\n",
    "\n",
    "url = \"https://rsshub.app/bilibili/weekly\"\n",
    "feed = feedparser.parse(url)\n",
    "\n",
    "for entry in feed.entries:\n",
    "    print(\"Title:\", entry.get(\"title\"))\n",
    "    print(\"Link:\", entry.get(\"link\"))\n",
    "    print(\"Published:\", entry.get(\"published\", \"N/A\"))\n",
    "    print(\"Summary:\", entry.get(\"summary\", \"\")[:100], \"...\")\n",
    "    print('-' * 40)\n"
   ]
  },
  {
   "cell_type": "code",
   "execution_count": 15,
   "id": "aeb78d89",
   "metadata": {},
   "outputs": [
    {
     "name": "stdout",
     "output_type": "stream",
     "text": [
      "正在抓取: https://rsshub.app/bilibili/weekly\n",
      "未找到内容。\n",
      "-------\n",
      "正在抓取: https://rsshub.app/bilibili/weekly\n",
      "未找到内容。\n",
      "-------\n"
     ]
    }
   ],
   "source": [
    "import feedparser\n",
    "\n",
    "def parse_feeds(feed_urls):\n",
    "    \"\"\"\n",
    "    针对多个 RSS 源进行抓取和解析。\n",
    "    \n",
    "    :param feed_urls: list, RSS 源 URL 列表\n",
    "    \"\"\"\n",
    "    for url in feed_urls:\n",
    "        print(f'正在抓取: {url}')\n",
    "        feed = feedparser.parse(url)\n",
    "        if feed.entries:\n",
    "            for entry in feed.entries:\n",
    "                print(f\"- {entry.title}: {entry.link}\")\n",
    "        else:\n",
    "            print(\"未找到内容。\")\n",
    "        print('-------')\n",
    "\n",
    "if __name__ == '__main__':\n",
    "    # 将下面的 URL 列表替换为你实际要订阅的 RSSHub 源\n",
    "    feed_urls = [\n",
    "        'https://rsshub.app/bilibili/weekly',\n",
    "        'https://rsshub.app/bilibili/weekly',\n",
    "        # 可根据需要添加更多源\n",
    "    ]\n",
    "    parse_feeds(feed_urls)\n"
   ]
  },
  {
   "cell_type": "code",
   "execution_count": 13,
   "id": "f6a04795",
   "metadata": {},
   "outputs": [
    {
     "name": "stdout",
     "output_type": "stream",
     "text": [
      "请求失败，状态码: 524\n"
     ]
    }
   ],
   "source": [
    "import requests\n",
    "\n",
    "# 定义 API 端点\n",
    "url = \"https://rsshub.app/bilibili/weekly\"\n",
    "\n",
    "# 可选：添加 embed 参数，设置为 0 以关闭嵌入模式\n",
    "params = {\"embed\": \"0\"}\n",
    "\n",
    "# 发送 GET 请求\n",
    "response = requests.get(url, params=params)\n",
    "\n",
    "# 检查请求是否成功\n",
    "if response.status_code == 200:\n",
    "    data = response.json()  # 假设返回 JSON 格式\n",
    "    print(\"获取到的数据:\", data)\n",
    "else:\n",
    "    print(\"请求失败，状态码:\", response.status_code)"
   ]
  },
  {
   "cell_type": "code",
   "execution_count": 14,
   "id": "c0315484",
   "metadata": {},
   "outputs": [
    {
     "name": "stdout",
     "output_type": "stream",
     "text": [
      "/bin/bash: /ifs/loni/faculty/shi/spectrum/yxia/software/anaconda3/lib/libtinfo.so.6: no version information available (required by /bin/bash)\n",
      "Requirement already satisfied: requests in /ifs/loni/faculty/shi/spectrum/yxia/software/anaconda3/lib/python3.11/site-packages (2.31.0)\n",
      "Requirement already satisfied: charset-normalizer<4,>=2 in /ifs/loni/faculty/shi/spectrum/yxia/software/anaconda3/lib/python3.11/site-packages (from requests) (2.0.4)\n",
      "Requirement already satisfied: idna<4,>=2.5 in /ifs/loni/faculty/shi/spectrum/yxia/software/anaconda3/lib/python3.11/site-packages (from requests) (3.4)\n",
      "Requirement already satisfied: urllib3<3,>=1.21.1 in /ifs/loni/faculty/shi/spectrum/yxia/software/anaconda3/lib/python3.11/site-packages (from requests) (1.26.20)\n",
      "Requirement already satisfied: certifi>=2017.4.17 in /ifs/loni/faculty/shi/spectrum/yxia/software/anaconda3/lib/python3.11/site-packages (from requests) (2023.11.17)\n"
     ]
    }
   ],
   "source": [
    "!pip install requests"
   ]
  },
  {
   "cell_type": "code",
   "execution_count": null,
   "id": "9941e760",
   "metadata": {},
   "outputs": [],
   "source": []
  }
 ],
 "metadata": {
  "kernelspec": {
   "display_name": "base",
   "language": "python",
   "name": "python3"
  },
  "language_info": {
   "codemirror_mode": {
    "name": "ipython",
    "version": 3
   },
   "file_extension": ".py",
   "mimetype": "text/x-python",
   "name": "python",
   "nbconvert_exporter": "python",
   "pygments_lexer": "ipython3",
   "version": "3.11.4"
  }
 },
 "nbformat": 4,
 "nbformat_minor": 5
}
